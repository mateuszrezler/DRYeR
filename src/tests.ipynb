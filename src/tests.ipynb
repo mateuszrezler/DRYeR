{
  "nbformat": 4,
  "nbformat_minor": 0,
  "metadata": {
    "colab": {
      "name": "tests.ipynb",
      "provenance": [],
      "collapsed_sections": []
    },
    "kernelspec": {
      "name": "ir",
      "display_name": "R"
    }
  },
  "cells": [
    {
      "cell_type": "markdown",
      "metadata": {
        "id": "LPlHHVgIOK_O",
        "colab_type": "text"
      },
      "source": [
        "# DRYeR tests in Jupyter Notebook"
      ]
    },
    {
      "cell_type": "markdown",
      "metadata": {
        "id": "PR-RXwgSJrfW",
        "colab_type": "text"
      },
      "source": [
        "## `1.R`"
      ]
    },
    {
      "cell_type": "code",
      "metadata": {
        "id": "SJK0O0EdJbbh",
        "colab_type": "code",
        "colab": {}
      },
      "source": [
        "cat(\"Import a CSV file and show its head\\n\")\n",
        "df <- read.csv(\"https://raw.githubusercontent.com/mateuszrezler/DRYeR/tests/data/california_housing_train.csv\")\n",
        "print(head(df))"
      ],
      "execution_count": 0,
      "outputs": []
    },
    {
      "cell_type": "markdown",
      "metadata": {
        "id": "ty8e5AtiLLZO",
        "colab_type": "text"
      },
      "source": [
        "## `2.R`"
      ]
    },
    {
      "cell_type": "code",
      "metadata": {
        "id": "meL-dBMjKHyT",
        "colab_type": "code",
        "colab": {}
      },
      "source": [
        "seq <- \"CGCGATATCGCGATATCGCG\"\n",
        "cat(paste(\"DNA sequence: \", seq, end = \"\\n\"))\n",
        "\n",
        "cat(\"\\nGet indices of all character elements matches in string\\n\")\n",
        "pos <- gregexpr(\"AT\", seq)\n",
        "print(pos)\n",
        "\n",
        "cat(\"Access indices\\n\")\n",
        "print(as.vector(pos[[1]]))\n",
        "\n",
        "cat(\"\\nAccess lengths\\n\")\n",
        "lens <- attr(pos[[1]], \"match.length\")\n",
        "print(lens)"
      ],
      "execution_count": 0,
      "outputs": []
    },
    {
      "cell_type": "markdown",
      "metadata": {
        "id": "FFAdlLTmL1D_",
        "colab_type": "text"
      },
      "source": [
        "## `3.R`"
      ]
    },
    {
      "cell_type": "code",
      "metadata": {
        "id": "vdkJ5qHDLyrP",
        "colab_type": "code",
        "colab": {}
      },
      "source": [
        "cat(\"Read a FASTA file and show it\\n\")\n",
        "df <- read.table(\"https://raw.githubusercontent.com/mateuszrezler/DRYeR/tests/data/FASTA_sample.fa\")\n",
        "print(df)\n",
        "\n",
        "cat(\"\\nSelect rows with even indices only\\n\")\n",
        "even_indices <- seq(2, nrow(df), 2)\n",
        "print(as.vector(df$V1[even_indices]), quote = FALSE)"
      ],
      "execution_count": 0,
      "outputs": []
    }
  ]
}
