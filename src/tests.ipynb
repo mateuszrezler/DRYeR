{
  "nbformat": 4,
  "nbformat_minor": 0,
  "metadata": {
    "colab": {
      "name": "tests.ipynb",
      "provenance": [],
      "collapsed_sections": []
    },
    "kernelspec": {
      "name": "ir",
      "display_name": "R"
    }
  },
  "cells": [
    {
      "cell_type": "markdown",
      "metadata": {
        "id": "LPlHHVgIOK_O",
        "colab_type": "text"
      },
      "source": [
        "# DRYeR tests in Jupyter Notebook"
      ]
    },
    {
      "cell_type": "markdown",
      "metadata": {
        "id": "PR-RXwgSJrfW",
        "colab_type": "text"
      },
      "source": [
        "## `1.R`"
      ]
    },
    {
      "cell_type": "code",
      "metadata": {
        "id": "SJK0O0EdJbbh",
        "colab_type": "code",
        "outputId": "18d9b676-23f0-4864-8b4a-a64ff93a6178",
        "colab": {
          "base_uri": "https://localhost:8080/",
          "height": 278
        }
      },
      "source": [
        "cat(\"Import a CSV file and show its head\\n\")\n",
        "df <- read.csv(\"https://raw.githubusercontent.com/mateuszrezler/DRYeR/tests/data/california_housing_train.csv\")\n",
        "print(head(df))"
      ],
      "execution_count": 1,
      "outputs": [
        {
          "output_type": "stream",
          "text": [
            "Import a CSV file and show its head\n",
            "  longitude latitude housing_median_age total_rooms total_bedrooms population\n",
            "1   -114.31    34.19                 15        5612           1283       1015\n",
            "2   -114.47    34.40                 19        7650           1901       1129\n",
            "3   -114.56    33.69                 17         720            174        333\n",
            "4   -114.57    33.64                 14        1501            337        515\n",
            "5   -114.57    33.57                 20        1454            326        624\n",
            "6   -114.58    33.63                 29        1387            236        671\n",
            "  households median_income median_house_value\n",
            "1        472        1.4936              66900\n",
            "2        463        1.8200              80100\n",
            "3        117        1.6509              85700\n",
            "4        226        3.1917              73400\n",
            "5        262        1.9250              65500\n",
            "6        239        3.3438              74000\n"
          ],
          "name": "stdout"
        }
      ]
    },
    {
      "cell_type": "markdown",
      "metadata": {
        "id": "ty8e5AtiLLZO",
        "colab_type": "text"
      },
      "source": [
        "## `2.R`"
      ]
    },
    {
      "cell_type": "code",
      "metadata": {
        "id": "meL-dBMjKHyT",
        "colab_type": "code",
        "outputId": "6d6c183b-c7a3-4c3f-bc19-1665448a973e",
        "colab": {
          "base_uri": "https://localhost:8080/",
          "height": 312
        }
      },
      "source": [
        "seq <- \"CGCGATATCGCGATATCGCG\"\n",
        "cat(paste(\"DNA sequence: \", seq, end = \"\\n\"))\n",
        "\n",
        "cat(\"\\nGet indices of all character elements matches in string\\n\")\n",
        "pos <- gregexpr(\"AT\", seq)\n",
        "print(pos)\n",
        "\n",
        "cat(\"Access indices\\n\")\n",
        "print(as.vector(pos[[1]]))\n",
        "\n",
        "cat(\"\\nAccess lengths\\n\")\n",
        "lens <- attr(pos[[1]], \"match.length\")\n",
        "print(lens)"
      ],
      "execution_count": 2,
      "outputs": [
        {
          "output_type": "stream",
          "text": [
            "DNA sequence:  CGCGATATCGCGATATCGCG \n",
            "\n",
            "Get indices of all character elements matches in string\n",
            "[[1]]\n",
            "[1]  5  7 13 15\n",
            "attr(,\"match.length\")\n",
            "[1] 2 2 2 2\n",
            "attr(,\"index.type\")\n",
            "[1] \"chars\"\n",
            "attr(,\"useBytes\")\n",
            "[1] TRUE\n",
            "\n",
            "Access indices\n",
            "[1]  5  7 13 15\n",
            "\n",
            "Access lengths\n",
            "[1] 2 2 2 2\n"
          ],
          "name": "stdout"
        }
      ]
    },
    {
      "cell_type": "markdown",
      "metadata": {
        "id": "FFAdlLTmL1D_",
        "colab_type": "text"
      },
      "source": [
        "## `3.R`"
      ]
    },
    {
      "cell_type": "code",
      "metadata": {
        "id": "vdkJ5qHDLyrP",
        "colab_type": "code",
        "outputId": "f702487d-bfcd-4362-d0de-d6688bb5cb80",
        "colab": {
          "base_uri": "https://localhost:8080/",
          "height": 555
        }
      },
      "source": [
        "cat(\"Read a FASTA file and show it\\n\")\n",
        "df <- read.table(\"https://raw.githubusercontent.com/mateuszrezler/DRYeR/tests/data/FASTA_sample.fa\")\n",
        "print(df)\n",
        "\n",
        "cat(\"\\nSelect rows with even indices only\\n\")\n",
        "even_indices <- seq(2, nrow(df), 2)\n",
        "print(as.vector(df$V1[even_indices]), quote = FALSE)"
      ],
      "execution_count": 3,
      "outputs": [
        {
          "output_type": "stream",
          "text": [
            "Read a FASTA file and show it\n",
            "                                                    V1\n",
            "1                                                >seq1\n",
            "2  AAGCGTAAGATCCGATTTTTCCAGTTTGAGGAATAGAATTAATACTAGCTT\n",
            "3                                                >seq2\n",
            "4  GGTGAATAATACCATCGCGATCGCGTTGAACTTGACTAACGGTACTGGGTT\n",
            "5                                                >seq3\n",
            "6  GGCCTCGATACACTCTCTGCTGACGGTCGGACTCCTCTTCTTCCACAGGCG\n",
            "7                                                >seq4\n",
            "8  GCAATGATTATAAATATAAGAATAAAGCAGTTGTGCACGTTCGCATACCAA\n",
            "9                                                >seq5\n",
            "10 ACTAATGGAATATTATCGCTCGGCCATCATTACTTATTCTGAACGGCCCCA\n",
            "11                                               >seq6\n",
            "12 CCGGGGCACTGCATATTACCACAAATGTGTTTTCACCACCACACCCGACTA\n",
            "13                                               >seq7\n",
            "14 AAGCTAGCTATTGGTGCGTCGGCGTCGCAAACGAGATAAAGAAAAACCCGA\n",
            "15                                               >seq8\n",
            "16 GGCGCGCGACGAAACAACGAAAAAAGTGAATGCTGTCGCGCTAACTGTGCT\n",
            "17                                               >seq9\n",
            "18 CACAAGACTTCCAAACATCGAATTGGTCGGGTGTCCCCAACAGTCGCTCCG\n",
            "\n",
            "Select rows with even indices only\n",
            "[1] AAGCGTAAGATCCGATTTTTCCAGTTTGAGGAATAGAATTAATACTAGCTT\n",
            "[2] GGTGAATAATACCATCGCGATCGCGTTGAACTTGACTAACGGTACTGGGTT\n",
            "[3] GGCCTCGATACACTCTCTGCTGACGGTCGGACTCCTCTTCTTCCACAGGCG\n",
            "[4] GCAATGATTATAAATATAAGAATAAAGCAGTTGTGCACGTTCGCATACCAA\n",
            "[5] ACTAATGGAATATTATCGCTCGGCCATCATTACTTATTCTGAACGGCCCCA\n",
            "[6] CCGGGGCACTGCATATTACCACAAATGTGTTTTCACCACCACACCCGACTA\n",
            "[7] AAGCTAGCTATTGGTGCGTCGGCGTCGCAAACGAGATAAAGAAAAACCCGA\n",
            "[8] GGCGCGCGACGAAACAACGAAAAAAGTGAATGCTGTCGCGCTAACTGTGCT\n",
            "[9] CACAAGACTTCCAAACATCGAATTGGTCGGGTGTCCCCAACAGTCGCTCCG\n"
          ],
          "name": "stdout"
        }
      ]
    }
  ]
}